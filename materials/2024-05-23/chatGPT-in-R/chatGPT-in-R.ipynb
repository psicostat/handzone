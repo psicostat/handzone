{
  "cells": [
    {
      "cell_type": "raw",
      "metadata": {},
      "source": [
        "---\n",
        "title: \"chatGPT in R\"\n",
        "subtitle: \"x handZone psicostat\"\n",
        "format: html\n",
        "execute:\n",
        "  warning: false    # Suppress warnings\n",
        "  message: false    # Suppress messages\n",
        "  error: false      # Suppress errors\n",
        "---"
      ],
      "id": "7c054672"
    },
    {
      "cell_type": "markdown",
      "metadata": {},
      "source": [
        "## 1. Import and visualize data\n"
      ],
      "id": "d00ff9d1"
    },
    {
      "cell_type": "code",
      "metadata": {},
      "source": [
        "# import packages\n",
        "import numpy as np\n",
        "import pandas as pd\n",
        "\n",
        "# Define path to data, import and visualize data\n",
        "input_datapath = \"C:/Users/enric/Documents/PSICOSTAT/AI meeting 2024_05_22/\" \n",
        "df = pd.read_csv(input_datapath+\"Toy_dataset.csv\", sep=',') \n",
        "df"
      ],
      "id": "a6295e28",
      "execution_count": null,
      "outputs": []
    },
    {
      "cell_type": "markdown",
      "metadata": {},
      "source": [
        "## 2. Get embeddings\n",
        "\n",
        "Now the **core part**!\n"
      ],
      "id": "c834f3d3"
    },
    {
      "cell_type": "code",
      "metadata": {},
      "source": [
        "# import packages/functions\n",
        "from sentence_transformers import SentenceTransformer\n",
        "\n",
        "# load a (small) model available on hugging face \n",
        "model = SentenceTransformer(\"avsolatorio/GIST-small-Embedding-v0\")\n",
        "\n",
        "# Compute embeddings on item texts in dataframe\n",
        "embeddings = model.encode(df[\"Testo\"], convert_to_tensor=True)"
      ],
      "id": "08a0e895",
      "execution_count": null,
      "outputs": []
    },
    {
      "cell_type": "markdown",
      "metadata": {},
      "source": [
        "## 3. Visualize embeddings\n"
      ],
      "id": "99346ebd"
    },
    {
      "cell_type": "code",
      "metadata": {},
      "source": [
        "# print embedding values\n",
        "print(embeddings)\n",
        "\n",
        "# see dimensions of the embeddings\n",
        "embeddings.shape"
      ],
      "id": "7e45af07",
      "execution_count": null,
      "outputs": []
    },
    {
      "cell_type": "markdown",
      "metadata": {},
      "source": [
        "## 4. Compute cosine similarities\n"
      ],
      "id": "0242b88d"
    },
    {
      "cell_type": "code",
      "metadata": {},
      "source": [
        "# import packages/functions\n",
        "import torch.nn.functional as F\n",
        "from sklearn.metrics.pairwise import cosine_similarity\n",
        "\n",
        "# Compute cosine-similarity for each pair of sentences\n",
        "scores = F.cosine_similarity(embeddings.unsqueeze(1), embeddings.unsqueeze(0), dim=-1)\n",
        "\n",
        "# visualize matrix of similarities\n",
        "print(scores.cpu().numpy().round(decimals=3))"
      ],
      "id": "368c7b24",
      "execution_count": null,
      "outputs": []
    },
    {
      "cell_type": "markdown",
      "metadata": {},
      "source": [
        "## 5. Lastly, plot items on 2D obtained via multimensional scaling\n"
      ],
      "id": "8f832bfb"
    },
    {
      "cell_type": "code",
      "metadata": {},
      "source": [
        "# import packages/functions\n",
        "import matplotlib.pyplot as plt\n",
        "import adjustText\n",
        "from sklearn.manifold import TSNE\n",
        "\n",
        "# compute multidimensional scaling reducing to 2D\n",
        "tsne = TSNE(n_components=2, perplexity=5, random_state=42, init='random', learning_rate=200)\n",
        "vis_dims = tsne.fit_transform(np.array(scores))\n",
        "\n",
        "# extract x, y coordinates for all data points\n",
        "x = [x for x,y in vis_dims]\n",
        "y = [y for x,y in vis_dims]\n",
        "\n",
        "# define color, dot shape, and other parameters\n",
        "colors = df[\"Color\"]\n",
        "marker = df[\"DotShape\"]\n",
        "scalename = df[\"Scale\"]\n",
        "text = df[\"Item\"]+\" :\"+df[\"Testo\"]\n",
        "    \n",
        "# plot basic graph\n",
        "font = {'size' : 10}\n",
        "plt.figure(figsize=(9, 7))\n",
        "plt.rcParams['figure.dpi'] = 600\n",
        "for _markers, _colors, _name,_x, _y in zip(marker, colors, scalename, x, y):\n",
        "   plt.scatter(_x, _y, s=80, alpha=0.7, marker=_markers, c=_colors, label=_name)\n",
        "# add legend\n",
        "handles, labels = plt.gca().get_legend_handles_labels()\n",
        "by_label = dict(zip(labels, handles))\n",
        "plt.legend(by_label.values(), by_label.keys(), loc='upper center', bbox_to_anchor=(1, 1), fontsize=8)\n",
        "# add labels and adjust their positions\n",
        "texts = [plt.text(x[i], y[i], text[i], ha='center', va='center', **font) for i in range(len(text))]\n",
        "adjustText.adjust_text(texts,expand_text=(0.9,0.9))"
      ],
      "id": "666219b4",
      "execution_count": null,
      "outputs": []
    }
  ],
  "metadata": {
    "kernelspec": {
      "display_name": "Python 3",
      "language": "python",
      "name": "python3"
    }
  },
  "nbformat": 4,
  "nbformat_minor": 5
}